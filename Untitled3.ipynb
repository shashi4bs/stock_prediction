{
 "cells": [
  {
   "cell_type": "code",
   "execution_count": 26,
   "metadata": {},
   "outputs": [],
   "source": [
    "import numpy as np\n",
    "import pandas as pd\n",
    "import matplotlib.pyplot as plt\n",
    "import talib as ta\n",
    "from sklearn.preprocessing import MinMaxScaler"
   ]
  },
  {
   "cell_type": "code",
   "execution_count": 37,
   "metadata": {},
   "outputs": [],
   "source": [
    "#read stock data 04-04-2013 to 04-04-2018\n",
    "stock_data = pd.read_csv('./complete_data_set_v1/INDUSINDBK.NS.csv')\n",
    "#read updated stock data 05-04-2018 to 11-05-2018\n",
    "live_data = pd.read_csv('./updated/INDUSINDBK.NS.csv')"
   ]
  },
  {
   "cell_type": "code",
   "execution_count": 38,
   "metadata": {},
   "outputs": [],
   "source": [
    "#drop last 30 days stock data for which we don't have actual output\n",
    "def drop_data(stock_data,stock_price_after_30_days):\n",
    "    stock_data = stock_data[:-30]\n",
    "    stock_price_after_30_days = stock_price_after_30_days[30:]\n",
    "    return stock_data,stock_price_after_30_days"
   ]
  },
  {
   "cell_type": "code",
   "execution_count": 39,
   "metadata": {},
   "outputs": [],
   "source": [
    "#output is opening and closing price\n",
    "stock_price_after_30_days = pd.DataFrame()\n",
    "stock_price_after_30_days['Close'] = stock_data['Close']\n",
    "stock_price_after_30_days['Open'] = stock_data['Open']\n",
    "\n",
    "#live res for final testing on live_data of 05-04-2018-11-05-2018\n",
    "live_res = pd.DataFrame()\n",
    "live_res['Close'] = live_data['Close']\n",
    "live_res['Open'] = live_data['Open']\n",
    "\n",
    "stock_data ,stock_price_after_30_days = drop_data(stock_data,stock_price_after_30_days)"
   ]
  },
  {
   "cell_type": "markdown",
   "metadata": {},
   "source": [
    "some lines are commented to discard those features "
   ]
  },
  {
   "cell_type": "code",
   "execution_count": 40,
   "metadata": {},
   "outputs": [],
   "source": [
    "def extract_features(data):\n",
    "    high = data['High']\n",
    "    low = data['Low']\n",
    "    close = data['Close']\n",
    "    volume = data['Volume']\n",
    "    open_ = data['Open']\n",
    "    \n",
    "    #data['ADX'] = ta.ADX(high, low, close, timeperiod=19)\n",
    "    data['CCI'] = ta.CCI(high, low, close, timeperiod=19)  \n",
    "    data['CMO'] = ta.CMO(close, timeperiod=14)\n",
    "    #data['MACD'], X, Y = ta.MACD(close, fastperiod=10, slowperiod=30, signalperiod=9)\n",
    "    data['MFI'] = ta.MFI(high, low, close, volume, timeperiod=19)\n",
    "    data['MOM'] = ta.MOM(close, timeperiod=9)\n",
    "    data['ROCR'] = ta.ROCR(close, timeperiod=12) \n",
    "    data['RSI'] = ta.RSI(close, timeperiod=19)  \n",
    "    data['STOCHSLOWK'], data['STOCHSLOWD'] = ta.STOCH(high, low, close, fastk_period=5, slowk_period=3, slowk_matype=0, slowd_period=3, slowd_matype=0)\n",
    "    #data['TRIX'] = ta.TRIX(close, timeperiod=30)\n",
    "    data['WILLR'] = ta.WILLR(high, low, close, timeperiod=14)\n",
    "    data['OBV'] = ta.OBV(close, volume)\n",
    "    data['TSF'] = ta.TSF(close, timeperiod=14)\n",
    "    data['NATR'] = ta.NATR(high, low, close)#, timeperiod=14)\n",
    "    #data['ULTOSC'] = ta.ULTOSC(high, low, close)\n",
    "    data['AROONOSC'] = ta.AROONOSC(high, low, timeperiod=14)\n",
    "    data['BOP'] = ta.BOP(open_, high, low, close)\n",
    "    data['LINEARREG'] = ta.LINEARREG(close)\n",
    "    data['AP0'] = ta.APO(close, fastperiod=9, slowperiod=23, matype=1)\n",
    "    #data['TEMA'] = ta.TRIMA(close, 29)\n",
    "    \n",
    "    return data"
   ]
  },
  {
   "cell_type": "markdown",
   "metadata": {},
   "source": [
    "fill nan fields with mean of the column data"
   ]
  },
  {
   "cell_type": "code",
   "execution_count": 41,
   "metadata": {},
   "outputs": [],
   "source": [
    "def Fillna_with_mean(data):\n",
    "    data['High'] = data[['High']].fillna(value=data['High'].mean())\n",
    "    data['Low'] = data[['Low']].fillna(value=data['Low'].mean())\n",
    "    data['Open'] = data[['Open']].fillna(value=data['Open'].mean())\n",
    "    data['Close'] = data[['Close']].fillna(value=data['Close'].mean())\n",
    "    data['Volume'] = data[['Volume']].fillna(value=data['Volume'].mean())\n",
    "    data['Adj Close'] = data[['Adj Close']].fillna(value=data['Adj Close'].mean())\n",
    "    #data['ADX'] = data[['ADX']].fillna(value=data['ADX'].mean())\n",
    "    data['CCI'] = data[['CCI']].fillna(value=data['CCI'].mean())\n",
    "    data['CMO'] = data[['CMO']].fillna(value=data['CMO'].mean())\n",
    "    #data['MACD'] = data[['MACD']].fillna(value=data['MACD'].mean())\n",
    "    data['MFI'] = data[['MFI']].fillna(value=data['MFI'].mean())\n",
    "    data['MOM'] = data[['MOM']].fillna(value=data['MOM'].mean())\n",
    "    data['ROCR'] = data[['ROCR']].fillna(value=data['ROCR'].mean())\n",
    "    data['RSI'] = data[['RSI']].fillna(value=data['RSI'].mean())\n",
    "    data['STOCHSLOWK'] = data[['STOCHSLOWK']].fillna(value=data['STOCHSLOWK'].mean())\n",
    "    data['STOCHSLOWD'] = data[['STOCHSLOWD']].fillna(value=data['STOCHSLOWD'].mean())\n",
    "    #data['TRIX'] = data[['TRIX']].fillna(value=data['TRIX'].mean())\n",
    "    data['WILLR'] = data[['WILLR']].fillna(value=data['WILLR'].mean())\n",
    "    data['OBV'] = data[['OBV']].fillna(value=data['OBV'].mean())\n",
    "    data['TSF'] = data[['TSF']].fillna(value=data['TSF'].mean())\n",
    "    data['NATR'] = data[['NATR']].fillna(value=data['NATR'].mean())\n",
    "    #data['TRIX'] = data[['TRIX']].fillna(value=data['TRIX'].mean())\n",
    "    data['WILLR'] = data[['WILLR']].fillna(value=data['WILLR'].mean())\n",
    "    data['OBV'] = data[['OBV']].fillna(value=data['OBV'].mean())\n",
    "    data['TSF'] = data[['TSF']].fillna(value=data['TSF'].mean())\n",
    "    data['NATR'] = data[['NATR']].fillna(value=data['NATR'].mean())\n",
    "    #data['ULTOSC'] = data[['ULTOSC']].fillna(value=data['ULTOSC'].mean())\n",
    "    data['AROONOSC'] = data[['AROONOSC']].fillna(value=data['AROONOSC'].mean())\n",
    "    data['BOP'] = data[['BOP']].fillna(value=data['BOP'].mean())\n",
    "    data['LINEARREG'] = data[['LINEARREG']].fillna(value=data['LINEARREG'].mean())\n",
    "    data['AP0'] = data[['AP0']].fillna(value=data['AP0'].mean())\n",
    "    #data['TEMA'] = data[['TEMA']].fillna(value=data['TEMA'].mean())\n",
    "    \n",
    "    return data"
   ]
  },
  {
   "cell_type": "markdown",
   "metadata": {},
   "source": [
    "feature scaling a must part in neural network model training"
   ]
  },
  {
   "cell_type": "code",
   "execution_count": null,
   "metadata": {},
   "outputs": [],
   "source": []
  },
  {
   "cell_type": "code",
   "execution_count": 42,
   "metadata": {},
   "outputs": [],
   "source": [
    "def normalise_data(data):\n",
    "    data = MinMaxScaler().fit_transform(data)\n",
    "    return data"
   ]
  },
  {
   "cell_type": "markdown",
   "metadata": {},
   "source": [
    "remove data (row) for which output in nan"
   ]
  },
  {
   "cell_type": "code",
   "execution_count": 43,
   "metadata": {},
   "outputs": [],
   "source": [
    "def remove_nans_Result(data,stk_data):\n",
    "    index = pd.isnull(data).any(1).nonzero()[0]\n",
    "    data = data.drop(data.index[index])\n",
    "    stk_data = stk_data.drop(stk_data.index[index])\n",
    "    \n",
    "    return stk_data,data"
   ]
  },
  {
   "cell_type": "code",
   "execution_count": 44,
   "metadata": {},
   "outputs": [],
   "source": [
    "stock_data = extract_features(stock_data)\n",
    "live_data = extract_features(live_data)\n",
    "\n",
    "stock_data = Fillna_with_mean(stock_data)\n",
    "live_data = Fillna_with_mean(live_data)\n"
   ]
  },
  {
   "cell_type": "code",
   "execution_count": 45,
   "metadata": {},
   "outputs": [],
   "source": [
    "stock_data = stock_data.drop(['Date','Open','High','Low','Close'],axis=1)\n",
    "live_data = live_data.drop(['Date','Open','High','Low','Close'],axis=1)"
   ]
  },
  {
   "cell_type": "code",
   "execution_count": 46,
   "metadata": {},
   "outputs": [],
   "source": [
    "\n",
    "\n",
    "stock_data ,stock_price_after_30_days = remove_nans_Result(stock_price_after_30_days,stock_data)\n",
    "live_data ,live_res = remove_nans_Result(live_res,live_data)\n",
    "\n",
    "\n",
    "#stock_data = normalise_data(stock_data.drop(['Date'],axis=1))\n",
    "sc = MinMaxScaler()\n",
    "#live_data = normalise_data(live_data.drop(['Date'],axis=1))\n",
    "\n",
    "stock_price_after_30_days = sc.fit_transform(stock_price_after_30_days)\n",
    "#live_res = normalise_data(live_res)"
   ]
  },
  {
   "cell_type": "code",
   "execution_count": null,
   "metadata": {},
   "outputs": [],
   "source": []
  },
  {
   "cell_type": "code",
   "execution_count": null,
   "metadata": {},
   "outputs": [],
   "source": []
  },
  {
   "cell_type": "code",
   "execution_count": 47,
   "metadata": {},
   "outputs": [],
   "source": [
    "from sklearn.model_selection import train_test_split\n",
    "x_train,x_test,y_train,y_test = train_test_split(stock_data,stock_price_after_30_days)"
   ]
  },
  {
   "cell_type": "code",
   "execution_count": 48,
   "metadata": {},
   "outputs": [],
   "source": [
    "from keras.models import Sequential\n",
    "from keras.layers import Dense\n",
    "from keras.layers import LSTM"
   ]
  },
  {
   "cell_type": "code",
   "execution_count": 49,
   "metadata": {},
   "outputs": [],
   "source": [
    "x_train = np.asarray(x_train).reshape(x_train.shape[0],1,x_train.shape[1])\n",
    "x_test = np.asarray(x_test).reshape(x_test.shape[0],1,x_test.shape[1])"
   ]
  },
  {
   "cell_type": "code",
   "execution_count": 50,
   "metadata": {
    "scrolled": true
   },
   "outputs": [
    {
     "name": "stdout",
     "output_type": "stream",
     "text": [
      "Epoch 1/200\n",
      "900/900 [==============================] - 2s 2ms/step - loss: 0.0862 - acc: 0.3522\n",
      "Epoch 2/200\n",
      "900/900 [==============================] - 0s 284us/step - loss: 0.0814 - acc: 0.3522\n",
      "Epoch 3/200\n",
      "900/900 [==============================] - 0s 343us/step - loss: 0.0790 - acc: 0.3522\n",
      "Epoch 4/200\n",
      "900/900 [==============================] - 0s 336us/step - loss: 0.0779 - acc: 0.3522\n",
      "Epoch 5/200\n",
      "900/900 [==============================] - 0s 287us/step - loss: 0.0774 - acc: 0.3522\n",
      "Epoch 6/200\n",
      "900/900 [==============================] - 0s 310us/step - loss: 0.0770 - acc: 0.3522\n",
      "Epoch 7/200\n",
      "900/900 [==============================] - 0s 341us/step - loss: 0.0767 - acc: 0.3522\n",
      "Epoch 8/200\n",
      "900/900 [==============================] - 0s 338us/step - loss: 0.0765 - acc: 0.3522\n",
      "Epoch 9/200\n",
      "900/900 [==============================] - 0s 352us/step - loss: 0.0763 - acc: 0.3522\n",
      "Epoch 10/200\n",
      "900/900 [==============================] - 0s 349us/step - loss: 0.0761 - acc: 0.3522\n",
      "Epoch 11/200\n",
      "900/900 [==============================] - 0s 308us/step - loss: 0.0759 - acc: 0.3522\n",
      "Epoch 12/200\n",
      "900/900 [==============================] - 0s 369us/step - loss: 0.0757 - acc: 0.3522\n",
      "Epoch 13/200\n",
      "900/900 [==============================] - 0s 324us/step - loss: 0.0756 - acc: 0.3522\n",
      "Epoch 14/200\n",
      "900/900 [==============================] - 0s 345us/step - loss: 0.0754 - acc: 0.3522\n",
      "Epoch 15/200\n",
      "900/900 [==============================] - 0s 377us/step - loss: 0.0753 - acc: 0.3522\n",
      "Epoch 16/200\n",
      "900/900 [==============================] - 0s 317us/step - loss: 0.0751 - acc: 0.3522\n",
      "Epoch 17/200\n",
      "900/900 [==============================] - 0s 377us/step - loss: 0.0750 - acc: 0.3522\n",
      "Epoch 18/200\n",
      "900/900 [==============================] - 0s 379us/step - loss: 0.0749 - acc: 0.3522\n",
      "Epoch 19/200\n",
      "900/900 [==============================] - 0s 375us/step - loss: 0.0748 - acc: 0.3522\n",
      "Epoch 20/200\n",
      "900/900 [==============================] - 0s 319us/step - loss: 0.0747 - acc: 0.3522\n",
      "Epoch 21/200\n",
      "900/900 [==============================] - 0s 388us/step - loss: 0.0746 - acc: 0.3522\n",
      "Epoch 22/200\n",
      "900/900 [==============================] - 0s 306us/step - loss: 0.0745 - acc: 0.3522\n",
      "Epoch 23/200\n",
      "900/900 [==============================] - 0s 374us/step - loss: 0.0744 - acc: 0.3522\n",
      "Epoch 24/200\n",
      "900/900 [==============================] - 0s 347us/step - loss: 0.0743 - acc: 0.3522\n",
      "Epoch 25/200\n",
      "900/900 [==============================] - 0s 353us/step - loss: 0.0743 - acc: 0.3522\n",
      "Epoch 26/200\n",
      "900/900 [==============================] - 0s 347us/step - loss: 0.0742 - acc: 0.3522\n",
      "Epoch 27/200\n",
      "900/900 [==============================] - 0s 351us/step - loss: 0.0741 - acc: 0.3522\n",
      "Epoch 28/200\n",
      "900/900 [==============================] - 0s 360us/step - loss: 0.0740 - acc: 0.3522\n",
      "Epoch 29/200\n",
      "900/900 [==============================] - 0s 388us/step - loss: 0.0740 - acc: 0.3522\n",
      "Epoch 30/200\n",
      "900/900 [==============================] - 0s 368us/step - loss: 0.0739 - acc: 0.3511\n",
      "Epoch 31/200\n",
      "900/900 [==============================] - 0s 300us/step - loss: 0.0739 - acc: 0.3500\n",
      "Epoch 32/200\n",
      "900/900 [==============================] - 0s 296us/step - loss: 0.0738 - acc: 0.3489\n",
      "Epoch 33/200\n",
      "900/900 [==============================] - 0s 355us/step - loss: 0.0737 - acc: 0.3389\n",
      "Epoch 34/200\n",
      "900/900 [==============================] - 0s 308us/step - loss: 0.0737 - acc: 0.3389\n",
      "Epoch 35/200\n",
      "900/900 [==============================] - 0s 294us/step - loss: 0.0736 - acc: 0.3389\n",
      "Epoch 36/200\n",
      "900/900 [==============================] - 0s 299us/step - loss: 0.0736 - acc: 0.3589\n",
      "Epoch 37/200\n",
      "900/900 [==============================] - 0s 260us/step - loss: 0.0736 - acc: 0.4633\n",
      "Epoch 38/200\n",
      "900/900 [==============================] - 0s 242us/step - loss: 0.0735 - acc: 0.6544\n",
      "Epoch 39/200\n",
      "900/900 [==============================] - 0s 265us/step - loss: 0.0734 - acc: 0.6544\n",
      "Epoch 40/200\n",
      "900/900 [==============================] - 0s 290us/step - loss: 0.0734 - acc: 0.6544\n",
      "Epoch 41/200\n",
      "900/900 [==============================] - 0s 317us/step - loss: 0.0734 - acc: 0.6544\n",
      "Epoch 42/200\n",
      "900/900 [==============================] - 0s 271us/step - loss: 0.0733 - acc: 0.6544\n",
      "Epoch 43/200\n",
      "900/900 [==============================] - 0s 316us/step - loss: 0.0734 - acc: 0.6544\n",
      "Epoch 44/200\n",
      "900/900 [==============================] - 0s 330us/step - loss: 0.0733 - acc: 0.6544\n",
      "Epoch 45/200\n",
      "900/900 [==============================] - 0s 307us/step - loss: 0.0733 - acc: 0.6544\n",
      "Epoch 46/200\n",
      "900/900 [==============================] - 0s 267us/step - loss: 0.0732 - acc: 0.6544\n",
      "Epoch 47/200\n",
      "900/900 [==============================] - 0s 297us/step - loss: 0.0732 - acc: 0.6544\n",
      "Epoch 48/200\n",
      "900/900 [==============================] - 0s 328us/step - loss: 0.0732 - acc: 0.6544\n",
      "Epoch 49/200\n",
      "900/900 [==============================] - 0s 295us/step - loss: 0.0731 - acc: 0.6544\n",
      "Epoch 50/200\n",
      "900/900 [==============================] - 0s 276us/step - loss: 0.0731 - acc: 0.6544\n",
      "Epoch 51/200\n",
      "900/900 [==============================] - 0s 315us/step - loss: 0.0731 - acc: 0.6544\n",
      "Epoch 52/200\n",
      "900/900 [==============================] - 0s 300us/step - loss: 0.0731 - acc: 0.6544\n",
      "Epoch 53/200\n",
      "900/900 [==============================] - 0s 315us/step - loss: 0.0730 - acc: 0.6544\n",
      "Epoch 54/200\n",
      "900/900 [==============================] - 0s 253us/step - loss: 0.0730 - acc: 0.6544\n",
      "Epoch 55/200\n",
      "900/900 [==============================] - 0s 277us/step - loss: 0.0730 - acc: 0.6544\n",
      "Epoch 56/200\n",
      "900/900 [==============================] - 0s 232us/step - loss: 0.0729 - acc: 0.6544\n",
      "Epoch 57/200\n",
      "900/900 [==============================] - 0s 264us/step - loss: 0.0729 - acc: 0.6544\n",
      "Epoch 58/200\n",
      "900/900 [==============================] - 0s 243us/step - loss: 0.0729 - acc: 0.6544\n",
      "Epoch 59/200\n",
      "900/900 [==============================] - 0s 238us/step - loss: 0.0729 - acc: 0.6544\n",
      "Epoch 60/200\n",
      "900/900 [==============================] - 0s 235us/step - loss: 0.0729 - acc: 0.6544\n",
      "Epoch 61/200\n",
      "900/900 [==============================] - 0s 224us/step - loss: 0.0729 - acc: 0.6544\n",
      "Epoch 62/200\n",
      "900/900 [==============================] - 0s 227us/step - loss: 0.0729 - acc: 0.6544\n",
      "Epoch 63/200\n",
      "900/900 [==============================] - 0s 287us/step - loss: 0.0728 - acc: 0.6544\n",
      "Epoch 64/200\n",
      "900/900 [==============================] - 0s 303us/step - loss: 0.0728 - acc: 0.6544\n",
      "Epoch 65/200\n",
      "900/900 [==============================] - 0s 313us/step - loss: 0.0728 - acc: 0.6544\n",
      "Epoch 66/200\n",
      "900/900 [==============================] - 0s 276us/step - loss: 0.0728 - acc: 0.6544\n",
      "Epoch 67/200\n",
      "900/900 [==============================] - 0s 298us/step - loss: 0.0727 - acc: 0.6544\n",
      "Epoch 68/200\n",
      "900/900 [==============================] - 0s 282us/step - loss: 0.0728 - acc: 0.6544\n",
      "Epoch 69/200\n",
      "900/900 [==============================] - 0s 308us/step - loss: 0.0727 - acc: 0.6544\n",
      "Epoch 70/200\n",
      "900/900 [==============================] - 0s 277us/step - loss: 0.0727 - acc: 0.6544\n",
      "Epoch 71/200\n",
      "900/900 [==============================] - 0s 224us/step - loss: 0.0727 - acc: 0.6544\n",
      "Epoch 72/200\n",
      "900/900 [==============================] - 0s 322us/step - loss: 0.0727 - acc: 0.6544\n",
      "Epoch 73/200\n",
      "900/900 [==============================] - 0s 291us/step - loss: 0.0727 - acc: 0.6544\n",
      "Epoch 74/200\n",
      "900/900 [==============================] - 0s 313us/step - loss: 0.0726 - acc: 0.6544\n",
      "Epoch 75/200\n",
      "900/900 [==============================] - 0s 280us/step - loss: 0.0726 - acc: 0.6544\n",
      "Epoch 76/200\n",
      "900/900 [==============================] - 0s 281us/step - loss: 0.0726 - acc: 0.6544\n",
      "Epoch 77/200\n",
      "900/900 [==============================] - 0s 307us/step - loss: 0.0726 - acc: 0.6544\n",
      "Epoch 78/200\n",
      "900/900 [==============================] - 0s 296us/step - loss: 0.0726 - acc: 0.6544\n",
      "Epoch 79/200\n",
      "900/900 [==============================] - 0s 302us/step - loss: 0.0726 - acc: 0.6544\n",
      "Epoch 80/200\n",
      "900/900 [==============================] - 0s 280us/step - loss: 0.0725 - acc: 0.6544\n",
      "Epoch 81/200\n",
      "900/900 [==============================] - 0s 369us/step - loss: 0.0725 - acc: 0.6544\n",
      "Epoch 82/200\n",
      "900/900 [==============================] - 0s 349us/step - loss: 0.0726 - acc: 0.6544\n",
      "Epoch 83/200\n",
      "900/900 [==============================] - 0s 317us/step - loss: 0.0725 - acc: 0.6544\n",
      "Epoch 84/200\n",
      "900/900 [==============================] - 0s 406us/step - loss: 0.0725 - acc: 0.6544\n",
      "Epoch 85/200\n",
      "900/900 [==============================] - 0s 308us/step - loss: 0.0726 - acc: 0.6544\n",
      "Epoch 86/200\n",
      "900/900 [==============================] - 0s 316us/step - loss: 0.0725 - acc: 0.6544\n",
      "Epoch 87/200\n",
      "900/900 [==============================] - 0s 277us/step - loss: 0.0725 - acc: 0.6544\n",
      "Epoch 88/200\n",
      "900/900 [==============================] - 0s 257us/step - loss: 0.0725 - acc: 0.6544\n",
      "Epoch 89/200\n",
      "900/900 [==============================] - 0s 261us/step - loss: 0.0725 - acc: 0.6544\n",
      "Epoch 90/200\n",
      "900/900 [==============================] - 0s 290us/step - loss: 0.0724 - acc: 0.6544\n",
      "Epoch 91/200\n",
      "900/900 [==============================] - 0s 263us/step - loss: 0.0724 - acc: 0.6544\n",
      "Epoch 92/200\n",
      "900/900 [==============================] - 0s 245us/step - loss: 0.0725 - acc: 0.6544\n",
      "Epoch 93/200\n",
      "900/900 [==============================] - 0s 267us/step - loss: 0.0724 - acc: 0.6544\n",
      "Epoch 94/200\n",
      "900/900 [==============================] - 0s 260us/step - loss: 0.0725 - acc: 0.6544\n",
      "Epoch 95/200\n",
      "900/900 [==============================] - 0s 287us/step - loss: 0.0724 - acc: 0.6544\n",
      "Epoch 96/200\n",
      "900/900 [==============================] - 0s 263us/step - loss: 0.0724 - acc: 0.6544\n",
      "Epoch 97/200\n",
      "900/900 [==============================] - 0s 270us/step - loss: 0.0724 - acc: 0.6544\n",
      "Epoch 98/200\n",
      "900/900 [==============================] - 0s 254us/step - loss: 0.0725 - acc: 0.6544\n",
      "Epoch 99/200\n",
      "900/900 [==============================] - 0s 272us/step - loss: 0.0724 - acc: 0.6544\n",
      "Epoch 100/200\n",
      "900/900 [==============================] - 0s 265us/step - loss: 0.0724 - acc: 0.6544\n",
      "Epoch 101/200\n",
      "900/900 [==============================] - 0s 264us/step - loss: 0.0724 - acc: 0.6544\n",
      "Epoch 102/200\n",
      "900/900 [==============================] - 0s 263us/step - loss: 0.0724 - acc: 0.6544\n",
      "Epoch 103/200\n",
      "900/900 [==============================] - 0s 258us/step - loss: 0.0724 - acc: 0.6544\n",
      "Epoch 104/200\n",
      "900/900 [==============================] - 0s 257us/step - loss: 0.0723 - acc: 0.6544\n",
      "Epoch 105/200\n",
      "900/900 [==============================] - 0s 257us/step - loss: 0.0724 - acc: 0.6544\n",
      "Epoch 106/200\n",
      "900/900 [==============================] - 0s 253us/step - loss: 0.0724 - acc: 0.6544\n",
      "Epoch 107/200\n",
      "900/900 [==============================] - 0s 272us/step - loss: 0.0723 - acc: 0.6544\n",
      "Epoch 108/200\n",
      "900/900 [==============================] - 0s 269us/step - loss: 0.0724 - acc: 0.6544\n",
      "Epoch 109/200\n",
      "900/900 [==============================] - 0s 274us/step - loss: 0.0723 - acc: 0.6544\n",
      "Epoch 110/200\n",
      "900/900 [==============================] - 0s 280us/step - loss: 0.0723 - acc: 0.6544\n",
      "Epoch 111/200\n",
      "900/900 [==============================] - 0s 274us/step - loss: 0.0723 - acc: 0.6544\n",
      "Epoch 112/200\n",
      "900/900 [==============================] - 0s 281us/step - loss: 0.0723 - acc: 0.6544\n",
      "Epoch 113/200\n",
      "900/900 [==============================] - 0s 337us/step - loss: 0.0723 - acc: 0.6544\n",
      "Epoch 114/200\n",
      "900/900 [==============================] - 0s 323us/step - loss: 0.0723 - acc: 0.6544\n",
      "Epoch 115/200\n",
      "900/900 [==============================] - 0s 353us/step - loss: 0.0723 - acc: 0.6544\n",
      "Epoch 116/200\n",
      "900/900 [==============================] - 0s 344us/step - loss: 0.0723 - acc: 0.6544\n",
      "Epoch 117/200\n",
      "900/900 [==============================] - 0s 319us/step - loss: 0.0723 - acc: 0.6544\n",
      "Epoch 118/200\n",
      "900/900 [==============================] - 0s 316us/step - loss: 0.0723 - acc: 0.6544\n",
      "Epoch 119/200\n",
      "900/900 [==============================] - 0s 322us/step - loss: 0.0723 - acc: 0.6544\n",
      "Epoch 120/200\n",
      "900/900 [==============================] - 0s 353us/step - loss: 0.0723 - acc: 0.6544\n",
      "Epoch 121/200\n",
      "900/900 [==============================] - 0s 305us/step - loss: 0.0723 - acc: 0.6544\n",
      "Epoch 122/200\n",
      "900/900 [==============================] - 0s 282us/step - loss: 0.0723 - acc: 0.6544\n",
      "Epoch 123/200\n",
      "900/900 [==============================] - 0s 358us/step - loss: 0.0723 - acc: 0.6544\n",
      "Epoch 124/200\n",
      "900/900 [==============================] - 0s 339us/step - loss: 0.0723 - acc: 0.6544\n",
      "Epoch 125/200\n",
      "900/900 [==============================] - 0s 338us/step - loss: 0.0723 - acc: 0.6544\n",
      "Epoch 126/200\n",
      "900/900 [==============================] - 0s 296us/step - loss: 0.0723 - acc: 0.6544\n",
      "Epoch 127/200\n",
      "900/900 [==============================] - 0s 292us/step - loss: 0.0723 - acc: 0.6544\n",
      "Epoch 128/200\n",
      "900/900 [==============================] - 0s 323us/step - loss: 0.0723 - acc: 0.6544\n",
      "Epoch 129/200\n",
      "900/900 [==============================] - 0s 297us/step - loss: 0.0722 - acc: 0.6544\n",
      "Epoch 130/200\n",
      "900/900 [==============================] - 0s 365us/step - loss: 0.0723 - acc: 0.6544\n",
      "Epoch 131/200\n",
      "900/900 [==============================] - 0s 316us/step - loss: 0.0723 - acc: 0.6544\n",
      "Epoch 132/200\n",
      "900/900 [==============================] - 0s 353us/step - loss: 0.0722 - acc: 0.6544\n",
      "Epoch 133/200\n",
      "900/900 [==============================] - 0s 319us/step - loss: 0.0722 - acc: 0.6544\n",
      "Epoch 134/200\n",
      "900/900 [==============================] - 0s 298us/step - loss: 0.0722 - acc: 0.6544\n",
      "Epoch 135/200\n",
      "900/900 [==============================] - 0s 358us/step - loss: 0.0722 - acc: 0.6544\n",
      "Epoch 136/200\n",
      "900/900 [==============================] - 0s 318us/step - loss: 0.0722 - acc: 0.6544\n",
      "Epoch 137/200\n",
      "900/900 [==============================] - 0s 319us/step - loss: 0.0722 - acc: 0.6544\n",
      "Epoch 138/200\n",
      "900/900 [==============================] - 0s 335us/step - loss: 0.0723 - acc: 0.6544\n",
      "Epoch 139/200\n",
      "900/900 [==============================] - 0s 312us/step - loss: 0.0722 - acc: 0.6544\n",
      "Epoch 140/200\n",
      "900/900 [==============================] - 0s 310us/step - loss: 0.0722 - acc: 0.6544\n",
      "Epoch 141/200\n",
      "900/900 [==============================] - 0s 331us/step - loss: 0.0722 - acc: 0.6544\n",
      "Epoch 142/200\n",
      "900/900 [==============================] - 0s 312us/step - loss: 0.0722 - acc: 0.6544\n",
      "Epoch 143/200\n",
      "900/900 [==============================] - 0s 306us/step - loss: 0.0722 - acc: 0.6544\n",
      "Epoch 144/200\n",
      "900/900 [==============================] - 0s 326us/step - loss: 0.0722 - acc: 0.6544\n",
      "Epoch 145/200\n",
      "900/900 [==============================] - 0s 338us/step - loss: 0.0722 - acc: 0.6544\n",
      "Epoch 146/200\n",
      "900/900 [==============================] - 0s 340us/step - loss: 0.0723 - acc: 0.6544\n",
      "Epoch 147/200\n",
      "900/900 [==============================] - 0s 288us/step - loss: 0.0722 - acc: 0.6544\n",
      "Epoch 148/200\n",
      "900/900 [==============================] - 0s 303us/step - loss: 0.0722 - acc: 0.6544\n",
      "Epoch 149/200\n",
      "900/900 [==============================] - 0s 320us/step - loss: 0.0722 - acc: 0.6544\n",
      "Epoch 150/200\n",
      "900/900 [==============================] - 0s 347us/step - loss: 0.0722 - acc: 0.6544\n",
      "Epoch 151/200\n",
      "900/900 [==============================] - 0s 307us/step - loss: 0.0722 - acc: 0.6544\n",
      "Epoch 152/200\n",
      "900/900 [==============================] - 0s 290us/step - loss: 0.0722 - acc: 0.6544\n",
      "Epoch 153/200\n",
      "900/900 [==============================] - 0s 313us/step - loss: 0.0722 - acc: 0.6544\n",
      "Epoch 154/200\n",
      "900/900 [==============================] - 0s 294us/step - loss: 0.0722 - acc: 0.6544\n",
      "Epoch 155/200\n",
      "900/900 [==============================] - 0s 311us/step - loss: 0.0723 - acc: 0.6544\n",
      "Epoch 156/200\n",
      "900/900 [==============================] - 0s 297us/step - loss: 0.0722 - acc: 0.6544\n",
      "Epoch 157/200\n",
      "900/900 [==============================] - 0s 299us/step - loss: 0.0722 - acc: 0.6544\n",
      "Epoch 158/200\n",
      "900/900 [==============================] - 0s 297us/step - loss: 0.0722 - acc: 0.6544\n",
      "Epoch 159/200\n",
      "900/900 [==============================] - 0s 293us/step - loss: 0.0722 - acc: 0.6544\n",
      "Epoch 160/200\n",
      "900/900 [==============================] - 0s 273us/step - loss: 0.0722 - acc: 0.6544\n",
      "Epoch 161/200\n",
      "900/900 [==============================] - 0s 282us/step - loss: 0.0722 - acc: 0.6544\n",
      "Epoch 162/200\n",
      "900/900 [==============================] - 0s 297us/step - loss: 0.0722 - acc: 0.6544\n",
      "Epoch 163/200\n",
      "900/900 [==============================] - 0s 319us/step - loss: 0.0722 - acc: 0.6544\n",
      "Epoch 164/200\n",
      "900/900 [==============================] - 0s 276us/step - loss: 0.0722 - acc: 0.6544\n",
      "Epoch 165/200\n"
     ]
    },
    {
     "name": "stdout",
     "output_type": "stream",
     "text": [
      "900/900 [==============================] - 0s 302us/step - loss: 0.0722 - acc: 0.6544\n",
      "Epoch 166/200\n",
      "900/900 [==============================] - 0s 258us/step - loss: 0.0722 - acc: 0.6544\n",
      "Epoch 167/200\n",
      "900/900 [==============================] - 0s 269us/step - loss: 0.0722 - acc: 0.6544\n",
      "Epoch 168/200\n",
      "900/900 [==============================] - 0s 280us/step - loss: 0.0722 - acc: 0.6544\n",
      "Epoch 169/200\n",
      "900/900 [==============================] - 0s 316us/step - loss: 0.0722 - acc: 0.6544\n",
      "Epoch 170/200\n",
      "900/900 [==============================] - 0s 359us/step - loss: 0.0722 - acc: 0.6544\n",
      "Epoch 171/200\n",
      "900/900 [==============================] - 0s 371us/step - loss: 0.0722 - acc: 0.6544\n",
      "Epoch 172/200\n",
      "900/900 [==============================] - 0s 414us/step - loss: 0.0722 - acc: 0.6544\n",
      "Epoch 173/200\n",
      "900/900 [==============================] - 0s 361us/step - loss: 0.0722 - acc: 0.6544\n",
      "Epoch 174/200\n",
      "900/900 [==============================] - 0s 307us/step - loss: 0.0722 - acc: 0.6544\n",
      "Epoch 175/200\n",
      "900/900 [==============================] - 0s 323us/step - loss: 0.0722 - acc: 0.6544\n",
      "Epoch 176/200\n",
      "900/900 [==============================] - 0s 333us/step - loss: 0.0722 - acc: 0.6544\n",
      "Epoch 177/200\n",
      "900/900 [==============================] - 0s 338us/step - loss: 0.0722 - acc: 0.6544\n",
      "Epoch 178/200\n",
      "900/900 [==============================] - 0s 359us/step - loss: 0.0722 - acc: 0.6544\n",
      "Epoch 179/200\n",
      "900/900 [==============================] - 0s 340us/step - loss: 0.0721 - acc: 0.6544\n",
      "Epoch 180/200\n",
      "900/900 [==============================] - 0s 334us/step - loss: 0.0722 - acc: 0.6544\n",
      "Epoch 181/200\n",
      "900/900 [==============================] - 0s 342us/step - loss: 0.0722 - acc: 0.6544\n",
      "Epoch 182/200\n",
      "900/900 [==============================] - 0s 383us/step - loss: 0.0722 - acc: 0.6544\n",
      "Epoch 183/200\n",
      "900/900 [==============================] - 0s 343us/step - loss: 0.0722 - acc: 0.6544\n",
      "Epoch 184/200\n",
      "900/900 [==============================] - 0s 303us/step - loss: 0.0722 - acc: 0.6544\n",
      "Epoch 185/200\n",
      "900/900 [==============================] - 0s 329us/step - loss: 0.0722 - acc: 0.6544\n",
      "Epoch 186/200\n",
      "900/900 [==============================] - 0s 404us/step - loss: 0.0721 - acc: 0.6544\n",
      "Epoch 187/200\n",
      "900/900 [==============================] - 0s 425us/step - loss: 0.0722 - acc: 0.6544\n",
      "Epoch 188/200\n",
      "900/900 [==============================] - 0s 407us/step - loss: 0.0722 - acc: 0.6544\n",
      "Epoch 189/200\n",
      "900/900 [==============================] - 0s 340us/step - loss: 0.0721 - acc: 0.6544\n",
      "Epoch 190/200\n",
      "900/900 [==============================] - 0s 338us/step - loss: 0.0722 - acc: 0.6544\n",
      "Epoch 191/200\n",
      "900/900 [==============================] - 0s 399us/step - loss: 0.0721 - acc: 0.6622\n",
      "Epoch 192/200\n",
      "900/900 [==============================] - 0s 373us/step - loss: 0.0722 - acc: 0.6667\n",
      "Epoch 193/200\n",
      "900/900 [==============================] - 0s 370us/step - loss: 0.0721 - acc: 0.6667\n",
      "Epoch 194/200\n",
      "900/900 [==============================] - 0s 363us/step - loss: 0.0722 - acc: 0.6667\n",
      "Epoch 195/200\n",
      "900/900 [==============================] - 0s 371us/step - loss: 0.0722 - acc: 0.6667\n",
      "Epoch 196/200\n",
      "900/900 [==============================] - 0s 372us/step - loss: 0.0721 - acc: 0.6656\n",
      "Epoch 197/200\n",
      "900/900 [==============================] - 0s 343us/step - loss: 0.0721 - acc: 0.6656\n",
      "Epoch 198/200\n",
      "900/900 [==============================] - 0s 401us/step - loss: 0.0722 - acc: 0.6656\n",
      "Epoch 199/200\n",
      "900/900 [==============================] - 0s 412us/step - loss: 0.0721 - acc: 0.6656\n",
      "Epoch 200/200\n",
      "900/900 [==============================] - 0s 388us/step - loss: 0.0721 - acc: 0.6656\n"
     ]
    },
    {
     "data": {
      "text/plain": [
       "<keras.callbacks.History at 0x7fc5e3e79fd0>"
      ]
     },
     "execution_count": 50,
     "metadata": {},
     "output_type": "execute_result"
    }
   ],
   "source": [
    "model = Sequential()\n",
    "model.add(LSTM(4,activation='sigmoid',input_shape=(None,x_train.shape[2])))\n",
    "\n",
    "model.add(Dense(units=2))\n",
    "\n",
    "model.compile(loss='mean_squared_error',optimizer='adam',metrics=['accuracy'])\n",
    "model.fit(x_train,y_train,batch_size=32,epochs=200)"
   ]
  },
  {
   "cell_type": "code",
   "execution_count": 51,
   "metadata": {},
   "outputs": [
    {
     "name": "stdout",
     "output_type": "stream",
     "text": [
      "300/300 [==============================] - 0s 1ms/step\n"
     ]
    },
    {
     "data": {
      "text/plain": [
       "[0.07467205400268237, 0.6133333333333333]"
      ]
     },
     "execution_count": 51,
     "metadata": {},
     "output_type": "execute_result"
    }
   ],
   "source": [
    "model.evaluate(x_test,y_test)"
   ]
  },
  {
   "cell_type": "code",
   "execution_count": 52,
   "metadata": {},
   "outputs": [],
   "source": [
    "%matplotlib qt"
   ]
  },
  {
   "cell_type": "code",
   "execution_count": 53,
   "metadata": {},
   "outputs": [
    {
     "data": {
      "text/plain": [
       "[<matplotlib.lines.Line2D at 0x7fc5e32515f8>]"
      ]
     },
     "execution_count": 53,
     "metadata": {},
     "output_type": "execute_result"
    }
   ],
   "source": [
    "plt.plot(model.predict(x_test)[:,0],color=\"red\")\n",
    "plt.plot(y_test[:,0],color=\"green\")"
   ]
  },
  {
   "cell_type": "code",
   "execution_count": 54,
   "metadata": {},
   "outputs": [],
   "source": [
    "live_prediction = model.predict(live_data.values.reshape(live_data.shape[0],1,live_data.shape[1]))"
   ]
  },
  {
   "cell_type": "code",
   "execution_count": 55,
   "metadata": {},
   "outputs": [],
   "source": [
    "live_prediction = sc.inverse_transform(live_prediction)"
   ]
  },
  {
   "cell_type": "code",
   "execution_count": 56,
   "metadata": {
    "scrolled": true
   },
   "outputs": [
    {
     "data": {
      "text/plain": [
       "Text(0,0.5,'HCLTECH')"
      ]
     },
     "execution_count": 56,
     "metadata": {},
     "output_type": "execute_result"
    }
   ],
   "source": [
    "plt.plot(live_prediction[:,1],color=\"red\")\n",
    "plt.plot(live_res.values[:,1],color=\"green\")\n",
    "plt.ylabel(\"HCLTECH\")"
   ]
  },
  {
   "cell_type": "code",
   "execution_count": null,
   "metadata": {},
   "outputs": [],
   "source": []
  },
  {
   "cell_type": "code",
   "execution_count": 57,
   "metadata": {},
   "outputs": [
    {
     "data": {
      "text/plain": [
       "[<matplotlib.lines.Line2D at 0x7fc5e2ee4be0>]"
      ]
     },
     "execution_count": 57,
     "metadata": {},
     "output_type": "execute_result"
    }
   ],
   "source": [
    "plt.plot(live_prediction[:,0]-live_prediction[:,1],color=\"red\")\n",
    "plt.plot(live_res.values[:,0]-live_res.values[:,1],color=\"green\")"
   ]
  },
  {
   "cell_type": "code",
   "execution_count": null,
   "metadata": {},
   "outputs": [],
   "source": []
  }
 ],
 "metadata": {
  "kernelspec": {
   "display_name": "Python 3",
   "language": "python",
   "name": "python3"
  },
  "language_info": {
   "codemirror_mode": {
    "name": "ipython",
    "version": 3
   },
   "file_extension": ".py",
   "mimetype": "text/x-python",
   "name": "python",
   "nbconvert_exporter": "python",
   "pygments_lexer": "ipython3",
   "version": "3.6.5"
  }
 },
 "nbformat": 4,
 "nbformat_minor": 2
}
